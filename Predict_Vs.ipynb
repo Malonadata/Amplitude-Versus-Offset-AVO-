{
  "nbformat": 4,
  "nbformat_minor": 0,
  "metadata": {
    "colab": {
      "provenance": [],
      "include_colab_link": true
    },
    "kernelspec": {
      "name": "python3",
      "display_name": "Python 3"
    },
    "language_info": {
      "name": "python"
    }
  },
  "cells": [
    {
      "cell_type": "markdown",
      "metadata": {
        "id": "view-in-github",
        "colab_type": "text"
      },
      "source": [
        "<a href=\"https://colab.research.google.com/github/Malonadata/AmplitudeVersusOffset/blob/main/Predict_Vs.ipynb\" target=\"_parent\"><img src=\"https://colab.research.google.com/assets/colab-badge.svg\" alt=\"Open In Colab\"/></a>"
      ]
    },
    {
      "cell_type": "code",
      "execution_count": null,
      "metadata": {
        "id": "4g6xxch1EtbZ"
      },
      "outputs": [],
      "source": [
        "import pandas as pd\n",
        "import numpy as np\n",
        "import matplotlib.pyplot as plt"
      ]
    },
    {
      "cell_type": "code",
      "source": [
        "Benar_44 = pd.read_csv(\"https://www.dropbox.com/s/fy4oxmciv4pkylj/Benar-44.csv?dl=1\", sep = \";\")\n",
        "Benar_45 = pd.read_csv(\"https://www.dropbox.com/s/9xhs8q03amif6sn/Benar-45.csv?dl=1\", sep = \";\")"
      ],
      "metadata": {
        "id": "tGrS1zMBFo5f"
      },
      "execution_count": null,
      "outputs": []
    },
    {
      "cell_type": "code",
      "source": [
        "Benar_44"
      ],
      "metadata": {
        "colab": {
          "base_uri": "https://localhost:8080/",
          "height": 424
        },
        "id": "_32MrypDLYWs",
        "outputId": "1864c9e5-9a21-4f51-8734-2829fc8d3e15"
      },
      "execution_count": null,
      "outputs": [
        {
          "output_type": "execute_result",
          "data": {
            "text/plain": [
              "       DEPTH       GR        DT       DTS     DRES    RHOB\n",
              "0      700.0  82.7897 -999.2500  171.6312   1.3829  2.0195\n",
              "1      700.5  84.8998 -999.2500  170.1264   0.9854  1.9719\n",
              "2      701.0  89.7544 -999.2500  169.4135   0.8453  1.9374\n",
              "3      701.5  90.5153 -999.2500  168.3756   0.7940  1.9504\n",
              "4      702.0  94.1483 -999.2500  169.0359   0.9666  1.9770\n",
              "...      ...      ...       ...       ...      ...     ...\n",
              "3892  2646.0  71.7225   73.5504  130.6303  64.9451  2.4426\n",
              "3893  2646.5  71.7225   73.5504  130.6303  75.6984  2.4426\n",
              "3894  2647.0  71.7225   73.5504  130.6303  81.0247  2.4426\n",
              "3895  2647.5  71.7225   73.5504  130.6303  79.8131  2.4426\n",
              "3896  2648.0  71.7225   73.5504  130.6303  79.1355  2.4426\n",
              "\n",
              "[3897 rows x 6 columns]"
            ],
            "text/html": [
              "\n",
              "  <div id=\"df-ab914abf-34c2-4aab-a565-1152c3dc9fb9\">\n",
              "    <div class=\"colab-df-container\">\n",
              "      <div>\n",
              "<style scoped>\n",
              "    .dataframe tbody tr th:only-of-type {\n",
              "        vertical-align: middle;\n",
              "    }\n",
              "\n",
              "    .dataframe tbody tr th {\n",
              "        vertical-align: top;\n",
              "    }\n",
              "\n",
              "    .dataframe thead th {\n",
              "        text-align: right;\n",
              "    }\n",
              "</style>\n",
              "<table border=\"1\" class=\"dataframe\">\n",
              "  <thead>\n",
              "    <tr style=\"text-align: right;\">\n",
              "      <th></th>\n",
              "      <th>DEPTH</th>\n",
              "      <th>GR</th>\n",
              "      <th>DT</th>\n",
              "      <th>DTS</th>\n",
              "      <th>DRES</th>\n",
              "      <th>RHOB</th>\n",
              "    </tr>\n",
              "  </thead>\n",
              "  <tbody>\n",
              "    <tr>\n",
              "      <th>0</th>\n",
              "      <td>700.0</td>\n",
              "      <td>82.7897</td>\n",
              "      <td>-999.2500</td>\n",
              "      <td>171.6312</td>\n",
              "      <td>1.3829</td>\n",
              "      <td>2.0195</td>\n",
              "    </tr>\n",
              "    <tr>\n",
              "      <th>1</th>\n",
              "      <td>700.5</td>\n",
              "      <td>84.8998</td>\n",
              "      <td>-999.2500</td>\n",
              "      <td>170.1264</td>\n",
              "      <td>0.9854</td>\n",
              "      <td>1.9719</td>\n",
              "    </tr>\n",
              "    <tr>\n",
              "      <th>2</th>\n",
              "      <td>701.0</td>\n",
              "      <td>89.7544</td>\n",
              "      <td>-999.2500</td>\n",
              "      <td>169.4135</td>\n",
              "      <td>0.8453</td>\n",
              "      <td>1.9374</td>\n",
              "    </tr>\n",
              "    <tr>\n",
              "      <th>3</th>\n",
              "      <td>701.5</td>\n",
              "      <td>90.5153</td>\n",
              "      <td>-999.2500</td>\n",
              "      <td>168.3756</td>\n",
              "      <td>0.7940</td>\n",
              "      <td>1.9504</td>\n",
              "    </tr>\n",
              "    <tr>\n",
              "      <th>4</th>\n",
              "      <td>702.0</td>\n",
              "      <td>94.1483</td>\n",
              "      <td>-999.2500</td>\n",
              "      <td>169.0359</td>\n",
              "      <td>0.9666</td>\n",
              "      <td>1.9770</td>\n",
              "    </tr>\n",
              "    <tr>\n",
              "      <th>...</th>\n",
              "      <td>...</td>\n",
              "      <td>...</td>\n",
              "      <td>...</td>\n",
              "      <td>...</td>\n",
              "      <td>...</td>\n",
              "      <td>...</td>\n",
              "    </tr>\n",
              "    <tr>\n",
              "      <th>3892</th>\n",
              "      <td>2646.0</td>\n",
              "      <td>71.7225</td>\n",
              "      <td>73.5504</td>\n",
              "      <td>130.6303</td>\n",
              "      <td>64.9451</td>\n",
              "      <td>2.4426</td>\n",
              "    </tr>\n",
              "    <tr>\n",
              "      <th>3893</th>\n",
              "      <td>2646.5</td>\n",
              "      <td>71.7225</td>\n",
              "      <td>73.5504</td>\n",
              "      <td>130.6303</td>\n",
              "      <td>75.6984</td>\n",
              "      <td>2.4426</td>\n",
              "    </tr>\n",
              "    <tr>\n",
              "      <th>3894</th>\n",
              "      <td>2647.0</td>\n",
              "      <td>71.7225</td>\n",
              "      <td>73.5504</td>\n",
              "      <td>130.6303</td>\n",
              "      <td>81.0247</td>\n",
              "      <td>2.4426</td>\n",
              "    </tr>\n",
              "    <tr>\n",
              "      <th>3895</th>\n",
              "      <td>2647.5</td>\n",
              "      <td>71.7225</td>\n",
              "      <td>73.5504</td>\n",
              "      <td>130.6303</td>\n",
              "      <td>79.8131</td>\n",
              "      <td>2.4426</td>\n",
              "    </tr>\n",
              "    <tr>\n",
              "      <th>3896</th>\n",
              "      <td>2648.0</td>\n",
              "      <td>71.7225</td>\n",
              "      <td>73.5504</td>\n",
              "      <td>130.6303</td>\n",
              "      <td>79.1355</td>\n",
              "      <td>2.4426</td>\n",
              "    </tr>\n",
              "  </tbody>\n",
              "</table>\n",
              "<p>3897 rows × 6 columns</p>\n",
              "</div>\n",
              "      <button class=\"colab-df-convert\" onclick=\"convertToInteractive('df-ab914abf-34c2-4aab-a565-1152c3dc9fb9')\"\n",
              "              title=\"Convert this dataframe to an interactive table.\"\n",
              "              style=\"display:none;\">\n",
              "        \n",
              "  <svg xmlns=\"http://www.w3.org/2000/svg\" height=\"24px\"viewBox=\"0 0 24 24\"\n",
              "       width=\"24px\">\n",
              "    <path d=\"M0 0h24v24H0V0z\" fill=\"none\"/>\n",
              "    <path d=\"M18.56 5.44l.94 2.06.94-2.06 2.06-.94-2.06-.94-.94-2.06-.94 2.06-2.06.94zm-11 1L8.5 8.5l.94-2.06 2.06-.94-2.06-.94L8.5 2.5l-.94 2.06-2.06.94zm10 10l.94 2.06.94-2.06 2.06-.94-2.06-.94-.94-2.06-.94 2.06-2.06.94z\"/><path d=\"M17.41 7.96l-1.37-1.37c-.4-.4-.92-.59-1.43-.59-.52 0-1.04.2-1.43.59L10.3 9.45l-7.72 7.72c-.78.78-.78 2.05 0 2.83L4 21.41c.39.39.9.59 1.41.59.51 0 1.02-.2 1.41-.59l7.78-7.78 2.81-2.81c.8-.78.8-2.07 0-2.86zM5.41 20L4 18.59l7.72-7.72 1.47 1.35L5.41 20z\"/>\n",
              "  </svg>\n",
              "      </button>\n",
              "      \n",
              "  <style>\n",
              "    .colab-df-container {\n",
              "      display:flex;\n",
              "      flex-wrap:wrap;\n",
              "      gap: 12px;\n",
              "    }\n",
              "\n",
              "    .colab-df-convert {\n",
              "      background-color: #E8F0FE;\n",
              "      border: none;\n",
              "      border-radius: 50%;\n",
              "      cursor: pointer;\n",
              "      display: none;\n",
              "      fill: #1967D2;\n",
              "      height: 32px;\n",
              "      padding: 0 0 0 0;\n",
              "      width: 32px;\n",
              "    }\n",
              "\n",
              "    .colab-df-convert:hover {\n",
              "      background-color: #E2EBFA;\n",
              "      box-shadow: 0px 1px 2px rgba(60, 64, 67, 0.3), 0px 1px 3px 1px rgba(60, 64, 67, 0.15);\n",
              "      fill: #174EA6;\n",
              "    }\n",
              "\n",
              "    [theme=dark] .colab-df-convert {\n",
              "      background-color: #3B4455;\n",
              "      fill: #D2E3FC;\n",
              "    }\n",
              "\n",
              "    [theme=dark] .colab-df-convert:hover {\n",
              "      background-color: #434B5C;\n",
              "      box-shadow: 0px 1px 3px 1px rgba(0, 0, 0, 0.15);\n",
              "      filter: drop-shadow(0px 1px 2px rgba(0, 0, 0, 0.3));\n",
              "      fill: #FFFFFF;\n",
              "    }\n",
              "  </style>\n",
              "\n",
              "      <script>\n",
              "        const buttonEl =\n",
              "          document.querySelector('#df-ab914abf-34c2-4aab-a565-1152c3dc9fb9 button.colab-df-convert');\n",
              "        buttonEl.style.display =\n",
              "          google.colab.kernel.accessAllowed ? 'block' : 'none';\n",
              "\n",
              "        async function convertToInteractive(key) {\n",
              "          const element = document.querySelector('#df-ab914abf-34c2-4aab-a565-1152c3dc9fb9');\n",
              "          const dataTable =\n",
              "            await google.colab.kernel.invokeFunction('convertToInteractive',\n",
              "                                                     [key], {});\n",
              "          if (!dataTable) return;\n",
              "\n",
              "          const docLinkHtml = 'Like what you see? Visit the ' +\n",
              "            '<a target=\"_blank\" href=https://colab.research.google.com/notebooks/data_table.ipynb>data table notebook</a>'\n",
              "            + ' to learn more about interactive tables.';\n",
              "          element.innerHTML = '';\n",
              "          dataTable['output_type'] = 'display_data';\n",
              "          await google.colab.output.renderOutput(dataTable, element);\n",
              "          const docLink = document.createElement('div');\n",
              "          docLink.innerHTML = docLinkHtml;\n",
              "          element.appendChild(docLink);\n",
              "        }\n",
              "      </script>\n",
              "    </div>\n",
              "  </div>\n",
              "  "
            ]
          },
          "metadata": {},
          "execution_count": 10
        }
      ]
    },
    {
      "cell_type": "code",
      "source": [
        "Top_Shale_B44 = Benar_44.loc[:1621, 'DT':'DTS']\n",
        "Sand_B44 = Benar_44.loc[1621:1721, 'DT':'DTS']\n",
        "Base_Shale_B44 = Benar_44.loc[1721:1941, 'DT':'DTS']\n",
        "\n",
        "Shale_B44 = [Top_Shale_B44 ,Base_Shale_B44 ]\n",
        "Shale_B44 = pd.concat(Shale_B44, ignore_index=True)"
      ],
      "metadata": {
        "id": "Jm8EWXkpF1S0"
      },
      "execution_count": null,
      "outputs": []
    },
    {
      "cell_type": "code",
      "source": [
        "%matplotlib inline \n",
        "plt.xlabel('DT')\n",
        "plt.ylabel('DTS')\n",
        "plt.title ('Crosspot DT dan DTS Benar_44')\n",
        "plt.scatter(Shale_B44.DT,Shale_B44.DTS, color='yellow', label = 'Shale')\n",
        "plt.scatter(Sand_B44.DT,Sand_B44.DTS, color='green', label ='Sand')\n",
        "plt.legend()\n"
      ],
      "metadata": {
        "colab": {
          "base_uri": "https://localhost:8080/",
          "height": 312
        },
        "id": "udtu9zMgLq7L",
        "outputId": "0e370255-f33e-428d-8f0f-7d663b53701d"
      },
      "execution_count": null,
      "outputs": [
        {
          "output_type": "execute_result",
          "data": {
            "text/plain": [
              "<matplotlib.legend.Legend at 0x7f294df6cf50>"
            ]
          },
          "metadata": {},
          "execution_count": 41
        },
        {
          "output_type": "display_data",
          "data": {
            "text/plain": [
              "<Figure size 432x288 with 1 Axes>"
            ],
            "image/png": "[encoded data removed]"
          },
          "metadata": {
            "needs_background": "light"
          }
        }
      ]
    },
    {
      "cell_type": "code",
      "source": [
        "Benar_45"
      ],
      "metadata": {
        "colab": {
          "base_uri": "https://localhost:8080/",
          "height": 424
        },
        "id": "CmIb-9XeOPg4",
        "outputId": "32a4cd96-cd61-4c7a-a468-03c51c731fca"
      },
      "execution_count": null,
      "outputs": [
        {
          "output_type": "execute_result",
          "data": {
            "text/plain": [
              "       DEPTH      DRES      DT       DTS        GR      SRES    RHOB\n",
              "0      700.0    2.2002 -999.25  177.1833   82.0615    0.2972  2.1679\n",
              "1      700.5    1.3079 -999.25  178.9678   87.0599    0.9606  2.0261\n",
              "2      701.0    0.6888 -999.25  175.3557   91.5664    0.9439  1.9818\n",
              "3      701.5    0.7885 -999.25  173.3515  105.7637    0.9078  1.9563\n",
              "4      702.0    0.8927 -999.25  170.9711  115.1710    1.0774  1.9337\n",
              "...      ...       ...     ...       ...       ...       ...     ...\n",
              "4380  2890.0  343.6923 -999.25 -999.2500  181.5111  212.7396  2.6222\n",
              "4381  2890.5  326.0213 -999.25 -999.2500  181.5111  218.8065  2.6222\n",
              "4382  2891.0  307.8252 -999.25 -999.2500  181.5111  228.5205  2.6222\n",
              "4383  2891.5  292.7930 -999.25 -999.2500  181.5111  239.6411  2.6222\n",
              "4384  2892.0  277.0348 -999.25 -999.2500  181.5111  237.9169  2.6222\n",
              "\n",
              "[4385 rows x 7 columns]"
            ],
            "text/html": [
              "\n",
              "  <div id=\"df-453b167b-26f4-400d-b198-086b462746c4\">\n",
              "    <div class=\"colab-df-container\">\n",
              "      <div>\n",
              "<style scoped>\n",
              "    .dataframe tbody tr th:only-of-type {\n",
              "        vertical-align: middle;\n",
              "    }\n",
              "\n",
              "    .dataframe tbody tr th {\n",
              "        vertical-align: top;\n",
              "    }\n",
              "\n",
              "    .dataframe thead th {\n",
              "        text-align: right;\n",
              "    }\n",
              "</style>\n",
              "<table border=\"1\" class=\"dataframe\">\n",
              "  <thead>\n",
              "    <tr style=\"text-align: right;\">\n",
              "      <th></th>\n",
              "      <th>DEPTH</th>\n",
              "      <th>DRES</th>\n",
              "      <th>DT</th>\n",
              "      <th>DTS</th>\n",
              "      <th>GR</th>\n",
              "      <th>SRES</th>\n",
              "      <th>RHOB</th>\n",
              "    </tr>\n",
              "  </thead>\n",
              "  <tbody>\n",
              "    <tr>\n",
              "      <th>0</th>\n",
              "      <td>700.0</td>\n",
              "      <td>2.2002</td>\n",
              "      <td>-999.25</td>\n",
              "      <td>177.1833</td>\n",
              "      <td>82.0615</td>\n",
              "      <td>0.2972</td>\n",
              "      <td>2.1679</td>\n",
              "    </tr>\n",
              "    <tr>\n",
              "      <th>1</th>\n",
              "      <td>700.5</td>\n",
              "      <td>1.3079</td>\n",
              "      <td>-999.25</td>\n",
              "      <td>178.9678</td>\n",
              "      <td>87.0599</td>\n",
              "      <td>0.9606</td>\n",
              "      <td>2.0261</td>\n",
              "    </tr>\n",
              "    <tr>\n",
              "      <th>2</th>\n",
              "      <td>701.0</td>\n",
              "      <td>0.6888</td>\n",
              "      <td>-999.25</td>\n",
              "      <td>175.3557</td>\n",
              "      <td>91.5664</td>\n",
              "      <td>0.9439</td>\n",
              "      <td>1.9818</td>\n",
              "    </tr>\n",
              "    <tr>\n",
              "      <th>3</th>\n",
              "      <td>701.5</td>\n",
              "      <td>0.7885</td>\n",
              "      <td>-999.25</td>\n",
              "      <td>173.3515</td>\n",
              "      <td>105.7637</td>\n",
              "      <td>0.9078</td>\n",
              "      <td>1.9563</td>\n",
              "    </tr>\n",
              "    <tr>\n",
              "      <th>4</th>\n",
              "      <td>702.0</td>\n",
              "      <td>0.8927</td>\n",
              "      <td>-999.25</td>\n",
              "      <td>170.9711</td>\n",
              "      <td>115.1710</td>\n",
              "      <td>1.0774</td>\n",
              "      <td>1.9337</td>\n",
              "    </tr>\n",
              "    <tr>\n",
              "      <th>...</th>\n",
              "      <td>...</td>\n",
              "      <td>...</td>\n",
              "      <td>...</td>\n",
              "      <td>...</td>\n",
              "      <td>...</td>\n",
              "      <td>...</td>\n",
              "      <td>...</td>\n",
              "    </tr>\n",
              "    <tr>\n",
              "      <th>4380</th>\n",
              "      <td>2890.0</td>\n",
              "      <td>343.6923</td>\n",
              "      <td>-999.25</td>\n",
              "      <td>-999.2500</td>\n",
              "      <td>181.5111</td>\n",
              "      <td>212.7396</td>\n",
              "      <td>2.6222</td>\n",
              "    </tr>\n",
              "    <tr>\n",
              "      <th>4381</th>\n",
              "      <td>2890.5</td>\n",
              "      <td>326.0213</td>\n",
              "      <td>-999.25</td>\n",
              "      <td>-999.2500</td>\n",
              "      <td>181.5111</td>\n",
              "      <td>218.8065</td>\n",
              "      <td>2.6222</td>\n",
              "    </tr>\n",
              "    <tr>\n",
              "      <th>4382</th>\n",
              "      <td>2891.0</td>\n",
              "      <td>307.8252</td>\n",
              "      <td>-999.25</td>\n",
              "      <td>-999.2500</td>\n",
              "      <td>181.5111</td>\n",
              "      <td>228.5205</td>\n",
              "      <td>2.6222</td>\n",
              "    </tr>\n",
              "    <tr>\n",
              "      <th>4383</th>\n",
              "      <td>2891.5</td>\n",
              "      <td>292.7930</td>\n",
              "      <td>-999.25</td>\n",
              "      <td>-999.2500</td>\n",
              "      <td>181.5111</td>\n",
              "      <td>239.6411</td>\n",
              "      <td>2.6222</td>\n",
              "    </tr>\n",
              "    <tr>\n",
              "      <th>4384</th>\n",
              "      <td>2892.0</td>\n",
              "      <td>277.0348</td>\n",
              "      <td>-999.25</td>\n",
              "      <td>-999.2500</td>\n",
              "      <td>181.5111</td>\n",
              "      <td>237.9169</td>\n",
              "      <td>2.6222</td>\n",
              "    </tr>\n",
              "  </tbody>\n",
              "</table>\n",
              "<p>4385 rows × 7 columns</p>\n",
              "</div>\n",
              "      <button class=\"colab-df-convert\" onclick=\"convertToInteractive('df-453b167b-26f4-400d-b198-086b462746c4')\"\n",
              "              title=\"Convert this dataframe to an interactive table.\"\n",
              "              style=\"display:none;\">\n",
              "        \n",
              "  <svg xmlns=\"http://www.w3.org/2000/svg\" height=\"24px\"viewBox=\"0 0 24 24\"\n",
              "       width=\"24px\">\n",
              "    <path d=\"M0 0h24v24H0V0z\" fill=\"none\"/>\n",
              "    <path d=\"M18.56 5.44l.94 2.06.94-2.06 2.06-.94-2.06-.94-.94-2.06-.94 2.06-2.06.94zm-11 1L8.5 8.5l.94-2.06 2.06-.94-2.06-.94L8.5 2.5l-.94 2.06-2.06.94zm10 10l.94 2.06.94-2.06 2.06-.94-2.06-.94-.94-2.06-.94 2.06-2.06.94z\"/><path d=\"M17.41 7.96l-1.37-1.37c-.4-.4-.92-.59-1.43-.59-.52 0-1.04.2-1.43.59L10.3 9.45l-7.72 7.72c-.78.78-.78 2.05 0 2.83L4 21.41c.39.39.9.59 1.41.59.51 0 1.02-.2 1.41-.59l7.78-7.78 2.81-2.81c.8-.78.8-2.07 0-2.86zM5.41 20L4 18.59l7.72-7.72 1.47 1.35L5.41 20z\"/>\n",
              "  </svg>\n",
              "      </button>\n",
              "      \n",
              "  <style>\n",
              "    .colab-df-container {\n",
              "      display:flex;\n",
              "      flex-wrap:wrap;\n",
              "      gap: 12px;\n",
              "    }\n",
              "\n",
              "    .colab-df-convert {\n",
              "      background-color: #E8F0FE;\n",
              "      border: none;\n",
              "      border-radius: 50%;\n",
              "      cursor: pointer;\n",
              "      display: none;\n",
              "      fill: #1967D2;\n",
              "      height: 32px;\n",
              "      padding: 0 0 0 0;\n",
              "      width: 32px;\n",
              "    }\n",
              "\n",
              "    .colab-df-convert:hover {\n",
              "      background-color: #E2EBFA;\n",
              "      box-shadow: 0px 1px 2px rgba(60, 64, 67, 0.3), 0px 1px 3px 1px rgba(60, 64, 67, 0.15);\n",
              "      fill: #174EA6;\n",
              "    }\n",
              "\n",
              "    [theme=dark] .colab-df-convert {\n",
              "      background-color: #3B4455;\n",
              "      fill: #D2E3FC;\n",
              "    }\n",
              "\n",
              "    [theme=dark] .colab-df-convert:hover {\n",
              "      background-color: #434B5C;\n",
              "      box-shadow: 0px 1px 3px 1px rgba(0, 0, 0, 0.15);\n",
              "      filter: drop-shadow(0px 1px 2px rgba(0, 0, 0, 0.3));\n",
              "      fill: #FFFFFF;\n",
              "    }\n",
              "  </style>\n",
              "\n",
              "      <script>\n",
              "        const buttonEl =\n",
              "          document.querySelector('#df-453b167b-26f4-400d-b198-086b462746c4 button.colab-df-convert');\n",
              "        buttonEl.style.display =\n",
              "          google.colab.kernel.accessAllowed ? 'block' : 'none';\n",
              "\n",
              "        async function convertToInteractive(key) {\n",
              "          const element = document.querySelector('#df-453b167b-26f4-400d-b198-086b462746c4');\n",
              "          const dataTable =\n",
              "            await google.colab.kernel.invokeFunction('convertToInteractive',\n",
              "                                                     [key], {});\n",
              "          if (!dataTable) return;\n",
              "\n",
              "          const docLinkHtml = 'Like what you see? Visit the ' +\n",
              "            '<a target=\"_blank\" href=https://colab.research.google.com/notebooks/data_table.ipynb>data table notebook</a>'\n",
              "            + ' to learn more about interactive tables.';\n",
              "          element.innerHTML = '';\n",
              "          dataTable['output_type'] = 'display_data';\n",
              "          await google.colab.output.renderOutput(dataTable, element);\n",
              "          const docLink = document.createElement('div');\n",
              "          docLink.innerHTML = docLinkHtml;\n",
              "          element.appendChild(docLink);\n",
              "        }\n",
              "      </script>\n",
              "    </div>\n",
              "  </div>\n",
              "  "
            ]
          },
          "metadata": {},
          "execution_count": 26
        }
      ]
    },
    {
      "cell_type": "code",
      "source": [
        "Top_Shale_B45 = Benar_45.loc[:501, 'DT':'DTS']\n",
        "Sand_B45 = Benar_45.loc[501:601, 'DT':'DTS']\n",
        "Base_Shale_B45 = Benar_45.loc[601:1401, 'DT':'DTS']\n",
        "\n",
        "Shale_B45 = [Top_Shale_B45 ,Base_Shale_B45 ]\n",
        "Shale_B45 = pd.concat(Shale_B45, ignore_index=True)"
      ],
      "metadata": {
        "id": "Tu5BxL2XOSic"
      },
      "execution_count": null,
      "outputs": []
    },
    {
      "cell_type": "code",
      "source": [
        "%matplotlib inline\n",
        "plt.xlabel('DT')\n",
        "plt.ylabel('DTS')\n",
        "plt.title ('Crosspot DT dan DTS Benar_45')\n",
        "plt.scatter(Shale_B45.DT,Shale_B45.DTS, color='yellow', label = 'Shale')\n",
        "plt.scatter(Sand_B45.DT,Sand_B45.DTS, color='green', label ='Sand')\n",
        "plt.legend()\n"
      ],
      "metadata": {
        "colab": {
          "base_uri": "https://localhost:8080/",
          "height": 312
        },
        "id": "f23FKxLWPN3H",
        "outputId": "1c92406f-8ad0-469e-b23c-f485e6b3cf5b"
      },
      "execution_count": null,
      "outputs": [
        {
          "output_type": "execute_result",
          "data": {
            "text/plain": [
              "<matplotlib.legend.Legend at 0x7f294dedc250>"
            ]
          },
          "metadata": {},
          "execution_count": 42
        },
        {
          "output_type": "display_data",
          "data": {
            "text/plain": [
              "<Figure size 432x288 with 1 Axes>"
            ],
            "image/png": "[encoded data removed]"
          },
          "metadata": {
            "needs_background": "light"
          }
        }
      ]
    },
    {
      "cell_type": "markdown",
      "source": [
        "**PENGGABUNGAN DATA BENAR 44 DAN BENAR 45**"
      ],
      "metadata": {
        "id": "GTB3KmlsQTVS"
      }
    },
    {
      "cell_type": "code",
      "source": [
        "SHALE = [Shale_B44, Shale_B45]\n",
        "SHALE = pd.concat(SHALE, ignore_index=True)\n",
        "SHALE = SHALE[SHALE['DT']>0]\n",
        "SHALE = SHALE[SHALE['DTS']>0]\n",
        "\n",
        "SAND= [Sand_B44, Sand_B45]\n",
        "SAND = pd.concat(SAND, ignore_index=True)\n",
        "SAND = SAND[SAND['DT']>0]\n",
        "SAND = SAND[SAND['DTS']>0]"
      ],
      "metadata": {
        "id": "TEkk5UZtQcAp"
      },
      "execution_count": null,
      "outputs": []
    },
    {
      "cell_type": "code",
      "source": [
        "SHALE"
      ],
      "metadata": {
        "colab": {
          "base_uri": "https://localhost:8080/",
          "height": 424
        },
        "id": "exSsabYVTw5n",
        "outputId": "6211e1f1-aa29-4d28-f164-301ee3aa5ebd"
      },
      "execution_count": null,
      "outputs": [
        {
          "output_type": "execute_result",
          "data": {
            "text/plain": [
              "            DT       DTS\n",
              "61    181.2761  169.2683\n",
              "62    181.2412  169.9656\n",
              "63    181.4029  169.0297\n",
              "64    181.2595  168.2242\n",
              "65    181.1549  168.6964\n",
              "...        ...       ...\n",
              "3114  158.3884  533.4871\n",
              "3115  158.9716  534.1403\n",
              "3143  162.3477  538.7919\n",
              "3144  161.5543  538.7919\n",
              "3145  160.9929  539.0825\n",
              "\n",
              "[604 rows x 2 columns]"
            ],
            "text/html": [
              "\n",
              "  <div id=\"df-b9428bcf-26a2-466f-9011-3e7732d97c90\">\n",
              "    <div class=\"colab-df-container\">\n",
              "      <div>\n",
              "<style scoped>\n",
              "    .dataframe tbody tr th:only-of-type {\n",
              "        vertical-align: middle;\n",
              "    }\n",
              "\n",
              "    .dataframe tbody tr th {\n",
              "        vertical-align: top;\n",
              "    }\n",
              "\n",
              "    .dataframe thead th {\n",
              "        text-align: right;\n",
              "    }\n",
              "</style>\n",
              "<table border=\"1\" class=\"dataframe\">\n",
              "  <thead>\n",
              "    <tr style=\"text-align: right;\">\n",
              "      <th></th>\n",
              "      <th>DT</th>\n",
              "      <th>DTS</th>\n",
              "    </tr>\n",
              "  </thead>\n",
              "  <tbody>\n",
              "    <tr>\n",
              "      <th>61</th>\n",
              "      <td>181.2761</td>\n",
              "      <td>169.2683</td>\n",
              "    </tr>\n",
              "    <tr>\n",
              "      <th>62</th>\n",
              "      <td>181.2412</td>\n",
              "      <td>169.9656</td>\n",
              "    </tr>\n",
              "    <tr>\n",
              "      <th>63</th>\n",
              "      <td>181.4029</td>\n",
              "      <td>169.0297</td>\n",
              "    </tr>\n",
              "    <tr>\n",
              "      <th>64</th>\n",
              "      <td>181.2595</td>\n",
              "      <td>168.2242</td>\n",
              "    </tr>\n",
              "    <tr>\n",
              "      <th>65</th>\n",
              "      <td>181.1549</td>\n",
              "      <td>168.6964</td>\n",
              "    </tr>\n",
              "    <tr>\n",
              "      <th>...</th>\n",
              "      <td>...</td>\n",
              "      <td>...</td>\n",
              "    </tr>\n",
              "    <tr>\n",
              "      <th>3114</th>\n",
              "      <td>158.3884</td>\n",
              "      <td>533.4871</td>\n",
              "    </tr>\n",
              "    <tr>\n",
              "      <th>3115</th>\n",
              "      <td>158.9716</td>\n",
              "      <td>534.1403</td>\n",
              "    </tr>\n",
              "    <tr>\n",
              "      <th>3143</th>\n",
              "      <td>162.3477</td>\n",
              "      <td>538.7919</td>\n",
              "    </tr>\n",
              "    <tr>\n",
              "      <th>3144</th>\n",
              "      <td>161.5543</td>\n",
              "      <td>538.7919</td>\n",
              "    </tr>\n",
              "    <tr>\n",
              "      <th>3145</th>\n",
              "      <td>160.9929</td>\n",
              "      <td>539.0825</td>\n",
              "    </tr>\n",
              "  </tbody>\n",
              "</table>\n",
              "<p>604 rows × 2 columns</p>\n",
              "</div>\n",
              "      <button class=\"colab-df-convert\" onclick=\"convertToInteractive('df-b9428bcf-26a2-466f-9011-3e7732d97c90')\"\n",
              "              title=\"Convert this dataframe to an interactive table.\"\n",
              "              style=\"display:none;\">\n",
              "        \n",
              "  <svg xmlns=\"http://www.w3.org/2000/svg\" height=\"24px\"viewBox=\"0 0 24 24\"\n",
              "       width=\"24px\">\n",
              "    <path d=\"M0 0h24v24H0V0z\" fill=\"none\"/>\n",
              "    <path d=\"M18.56 5.44l.94 2.06.94-2.06 2.06-.94-2.06-.94-.94-2.06-.94 2.06-2.06.94zm-11 1L8.5 8.5l.94-2.06 2.06-.94-2.06-.94L8.5 2.5l-.94 2.06-2.06.94zm10 10l.94 2.06.94-2.06 2.06-.94-2.06-.94-.94-2.06-.94 2.06-2.06.94z\"/><path d=\"M17.41 7.96l-1.37-1.37c-.4-.4-.92-.59-1.43-.59-.52 0-1.04.2-1.43.59L10.3 9.45l-7.72 7.72c-.78.78-.78 2.05 0 2.83L4 21.41c.39.39.9.59 1.41.59.51 0 1.02-.2 1.41-.59l7.78-7.78 2.81-2.81c.8-.78.8-2.07 0-2.86zM5.41 20L4 18.59l7.72-7.72 1.47 1.35L5.41 20z\"/>\n",
              "  </svg>\n",
              "      </button>\n",
              "      \n",
              "  <style>\n",
              "    .colab-df-container {\n",
              "      display:flex;\n",
              "      flex-wrap:wrap;\n",
              "      gap: 12px;\n",
              "    }\n",
              "\n",
              "    .colab-df-convert {\n",
              "      background-color: #E8F0FE;\n",
              "      border: none;\n",
              "      border-radius: 50%;\n",
              "      cursor: pointer;\n",
              "      display: none;\n",
              "      fill: #1967D2;\n",
              "      height: 32px;\n",
              "      padding: 0 0 0 0;\n",
              "      width: 32px;\n",
              "    }\n",
              "\n",
              "    .colab-df-convert:hover {\n",
              "      background-color: #E2EBFA;\n",
              "      box-shadow: 0px 1px 2px rgba(60, 64, 67, 0.3), 0px 1px 3px 1px rgba(60, 64, 67, 0.15);\n",
              "      fill: #174EA6;\n",
              "    }\n",
              "\n",
              "    [theme=dark] .colab-df-convert {\n",
              "      background-color: #3B4455;\n",
              "      fill: #D2E3FC;\n",
              "    }\n",
              "\n",
              "    [theme=dark] .colab-df-convert:hover {\n",
              "      background-color: #434B5C;\n",
              "      box-shadow: 0px 1px 3px 1px rgba(0, 0, 0, 0.15);\n",
              "      filter: drop-shadow(0px 1px 2px rgba(0, 0, 0, 0.3));\n",
              "      fill: #FFFFFF;\n",
              "    }\n",
              "  </style>\n",
              "\n",
              "      <script>\n",
              "        const buttonEl =\n",
              "          document.querySelector('#df-b9428bcf-26a2-466f-9011-3e7732d97c90 button.colab-df-convert');\n",
              "        buttonEl.style.display =\n",
              "          google.colab.kernel.accessAllowed ? 'block' : 'none';\n",
              "\n",
              "        async function convertToInteractive(key) {\n",
              "          const element = document.querySelector('#df-b9428bcf-26a2-466f-9011-3e7732d97c90');\n",
              "          const dataTable =\n",
              "            await google.colab.kernel.invokeFunction('convertToInteractive',\n",
              "                                                     [key], {});\n",
              "          if (!dataTable) return;\n",
              "\n",
              "          const docLinkHtml = 'Like what you see? Visit the ' +\n",
              "            '<a target=\"_blank\" href=https://colab.research.google.com/notebooks/data_table.ipynb>data table notebook</a>'\n",
              "            + ' to learn more about interactive tables.';\n",
              "          element.innerHTML = '';\n",
              "          dataTable['output_type'] = 'display_data';\n",
              "          await google.colab.output.renderOutput(dataTable, element);\n",
              "          const docLink = document.createElement('div');\n",
              "          docLink.innerHTML = docLinkHtml;\n",
              "          element.appendChild(docLink);\n",
              "        }\n",
              "      </script>\n",
              "    </div>\n",
              "  </div>\n",
              "  "
            ]
          },
          "metadata": {},
          "execution_count": 77
        }
      ]
    },
    {
      "cell_type": "code",
      "source": [
        "SHALE.to_csv('shale', index=0)"
      ],
      "metadata": {
        "id": "4y03h8g2TzYp"
      },
      "execution_count": null,
      "outputs": []
    },
    {
      "cell_type": "code",
      "source": [
        "%matplotlib inline\n",
        "plt.xlabel('DT')\n",
        "plt.ylabel('DTS')\n",
        "plt.title ('Crosspot DT dan DTS Benar')\n",
        "plt.scatter(SHALE.DT,SHALE.DTS, color='yellow', label = 'Shale')\n",
        "plt.scatter(SAND.DT,SAND.DTS, color='green', label ='Sand')\n",
        "plt.legend()"
      ],
      "metadata": {
        "colab": {
          "base_uri": "https://localhost:8080/",
          "height": 312
        },
        "id": "zKKpOTXzRqpB",
        "outputId": "52f5d8d3-e119-4ed1-d8a6-a86b1a607439"
      },
      "execution_count": null,
      "outputs": [
        {
          "output_type": "execute_result",
          "data": {
            "text/plain": [
              "<matplotlib.legend.Legend at 0x7f294dce5f50>"
            ]
          },
          "metadata": {},
          "execution_count": 59
        },
        {
          "output_type": "display_data",
          "data": {
            "text/plain": [
              "<Figure size 432x288 with 1 Axes>"
            ],
            "image/png": "[encoded data removed]"
          },
          "metadata": {
            "needs_background": "light"
          }
        }
      ]
    },
    {
      "cell_type": "code",
      "source": [
        "persamaan_shale= np.polyfit(SHALE.DT,SHALE.DTS,1)\n",
        "persamaan"
      ],
      "metadata": {
        "colab": {
          "base_uri": "https://localhost:8080/"
        },
        "id": "_VjdJbXkSS4N",
        "outputId": "7d4d17b3-688e-4219-ed14-f5b84572ab89"
      },
      "execution_count": null,
      "outputs": [
        {
          "output_type": "execute_result",
          "data": {
            "text/plain": [
              "array([ -3.27002668, 980.86853918])"
            ]
          },
          "metadata": {},
          "execution_count": 62
        }
      ]
    },
    {
      "cell_type": "code",
      "source": [
        "persamaan_sand= np.polyfit(SAND.DT,SAND.DTS,1)\n",
        "persamaan"
      ],
      "metadata": {
        "colab": {
          "base_uri": "https://localhost:8080/"
        },
        "id": "bv7J5qQfSkIo",
        "outputId": "11e72608-f680-4fd9-cf56-166e9a5e5eeb"
      },
      "execution_count": null,
      "outputs": [
        {
          "output_type": "execute_result",
          "data": {
            "text/plain": [
              "array([ -3.27002668, 980.86853918])"
            ]
          },
          "metadata": {},
          "execution_count": 64
        }
      ]
    }
  ]
}